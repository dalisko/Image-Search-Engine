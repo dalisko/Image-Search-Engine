{
 "cells": [
  {
   "cell_type": "markdown",
   "metadata": {},
   "source": [
    "# CS 5785 2019 Fall Final on Kaggle: Konstantinos Ntalis & Maxwell Wulff"
   ]
  },
  {
   "cell_type": "code",
   "execution_count": 132,
   "metadata": {},
   "outputs": [],
   "source": [
    "import os\n",
    "import numpy as np\n",
    "import pandas as pd\n",
    "import csv\n",
    "import random\n",
    "import gensim\n",
    "from sklearn import preprocessing\n",
    "import keras\n",
    "import matplotlib.pyplot as plt\n",
    "from nltk.corpus import stopwords\n",
    "%matplotlib inline"
   ]
  },
  {
   "cell_type": "markdown",
   "metadata": {},
   "source": [
    "### Importing the word2vec dictionary"
   ]
  },
  {
   "cell_type": "markdown",
   "metadata": {},
   "source": [
    "## First Approach: Classification"
   ]
  },
  {
   "cell_type": "code",
   "execution_count": 133,
   "metadata": {},
   "outputs": [
    {
     "name": "stdout",
     "output_type": "stream",
     "text": [
      "Loaded word vectors successfully!\n"
     ]
    }
   ],
   "source": [
    "num_train = 8000\n",
    "num_dev = 2000\n",
    "num_test = 2000\n",
    "split_idx = list(range(num_train + num_dev))\n",
    "random.shuffle(split_idx)\n",
    "word2vec = gensim.models.KeyedVectors.load_word2vec_format(\"GoogleNews-vectors-negative300.bin.gz\", binary=True)\n",
    "print(\"Loaded word vectors successfully!\")"
   ]
  },
  {
   "cell_type": "markdown",
   "metadata": {},
   "source": [
    "### Parsing the descriptions and features"
   ]
  },
  {
   "cell_type": "code",
   "execution_count": 134,
   "metadata": {},
   "outputs": [],
   "source": [
    "import nltk\n",
    "from nltk.tokenize import word_tokenize\n",
    "from nltk.corpus import stopwords\n",
    "stopwords = set(stopwords.words('english'))\n",
    "\n",
    "\n",
    "def parse_descriptions(data_dir, num_doc):\n",
    "    docs = []\n",
    "    for i in range(num_doc):\n",
    "        path = os.path.join(data_dir, \"%d.txt\" % i)\n",
    "        with open(path) as f:\n",
    "            docs.append(f.read())\n",
    "    return docs\n",
    "\n",
    "def doc_to_vec(sentence, word2vec):\n",
    "    # get list of word vectors in sentence\n",
    "    word_vecs = [word2vec.get_vector(w) for w in sentence.split() if w in word2vec.vocab]\n",
    "    # return average\n",
    "    return np.stack(word_vecs).mean(0)\n",
    "\n",
    "\n",
    "def parse_features(features_path):\n",
    "    vec_map = {}\n",
    "    with open(features_path) as f:\n",
    "        for row in csv.reader(f):\n",
    "            img_id = int(row[0].split(\"/\")[1].split(\".\")[0])\n",
    "            vec_map[img_id] = np.array([float(x) for x in row[1:]])\n",
    "    return np.array([v for k, v in sorted(vec_map.items())])\n",
    "\n",
    "\n",
    "def remove_stopwords(data):\n",
    "    output_array = []\n",
    "    for sentence in data:\n",
    "        temp_list = []\n",
    "        for word in sentence.split():\n",
    "            if word.lower() not in stopwords:\n",
    "                temp_list.append(word)\n",
    "        output_array.append(' '.join(temp_list))\n",
    "    return output_array\n",
    "\n",
    "def remove_punctuation(data):\n",
    "    output_array = []\n",
    "    for sentence in data:\n",
    "        temp_list = []\n",
    "        for word in sentence.split():\n",
    "            #if '.' not in word.lower():\n",
    "            temp_list.append(word.replace('.','').replace(',',''))\n",
    "        output_array.append(' '.join(temp_list))\n",
    "    return output_array\n",
    "\n",
    "\n",
    "# build matrices description \n",
    "train_dev_desc = parse_descriptions(\"data/descriptions_train\", num_doc=(num_train+num_dev))\n",
    "train_dev_desc = remove_stopwords(train_dev_desc)\n",
    "train_dev_desc = remove_punctuation(train_dev_desc)\n",
    "test_desc = parse_descriptions(\"data/descriptions_test\", num_doc=num_test)\n",
    "test_desc = remove_stopwords(test_desc)\n",
    "test_desc = remove_punctuation(test_desc)\n",
    "train_desc = np.array([doc_to_vec(train_dev_desc[i], word2vec) for i in split_idx[:num_train]])\n",
    "dev_desc = np.array([doc_to_vec(train_dev_desc[i], word2vec) for i in split_idx[num_train:]])\n",
    "test_desc = np.array([doc_to_vec(d, word2vec) for d in test_desc])\n",
    "\n",
    "\n",
    "# build feature matrices\n",
    "train_dev_feat = parse_features(\"data/features_train/features_resnet1000_train.csv\")\n",
    "train_feat = train_dev_feat[split_idx[:num_train]]\n",
    "dev_feat = train_dev_feat[split_idx[num_train:]]\n",
    "test_feat = parse_features(\"data/features_test/features_resnet1000_test.csv\") "
   ]
  },
  {
   "cell_type": "markdown",
   "metadata": {},
   "source": [
    "### Dictionary of tags"
   ]
  },
  {
   "cell_type": "code",
   "execution_count": 4,
   "metadata": {},
   "outputs": [],
   "source": [
    "def parse_tags(data_dir, num_doc):\n",
    "    docs = []\n",
    "    for i in range(num_doc):\n",
    "        path = os.path.join(data_dir, \"%d.txt\" % i)\n",
    "        with open(path) as f:\n",
    "            docs.append(f.read())\n",
    "    return docs\n",
    "\n",
    "tags = parse_descriptions(\"data/tags_train\", num_doc = (num_train+num_dev))\n",
    "tags_dict = []\n",
    "\n",
    "for i in split_idx[:num_train]:\n",
    "    tags_dict.append(tags[i].replace(' ', '').replace(':', ' ').replace('\\n', ' ').split()[1::2])\n",
    "    \n",
    "unique_tags = np.unique(np.concatenate(tags_dict))\n",
    "\n",
    "def tags_b(tags_dict, unique_tags):\n",
    "    tags = np.zeros((len(tags_dict), len(unique_tags)))\n",
    "    for i in range(tags.shape[0]):\n",
    "        for j in range(tags.shape[1]):\n",
    "            if unique_tags[j] in tags_dict[i]:\n",
    "                tags[i,j] = 1\n",
    "                \n",
    "    return tags\n",
    "                \n",
    "tags_bow = tags_b(tags_dict, unique_tags)"
   ]
  },
  {
   "cell_type": "markdown",
   "metadata": {},
   "source": [
    "### Applying PCA to the ResNet features"
   ]
  },
  {
   "cell_type": "code",
   "execution_count": 5,
   "metadata": {},
   "outputs": [],
   "source": [
    "from sklearn.decomposition import PCA\n",
    "\n",
    "pca = PCA(n_components = 100)\n",
    "pca.fit(train_feat)\n",
    "train_feat = pca.transform(train_feat)\n",
    "dev_feat = pca.transform(dev_feat)\n",
    "test_feat = pca.transform(test_feat)"
   ]
  },
  {
   "cell_type": "markdown",
   "metadata": {},
   "source": [
    "### Train a model"
   ]
  },
  {
   "cell_type": "markdown",
   "metadata": {},
   "source": [
    "### b) Neural Network"
   ]
  },
  {
   "cell_type": "code",
   "execution_count": 126,
   "metadata": {
    "scrolled": false
   },
   "outputs": [],
   "source": [
    "from keras.models import Sequential\n",
    "from keras.layers import Dense\n",
    "from keras.layers import Dropout\n",
    "\n",
    "# Neural network\n",
    "model = Sequential()\n",
    "\n",
    "model.add(Dense(600, input_dim = 300, activation = 'relu'))\n",
    "model.add(Dense(100))\n",
    "\n",
    "model.compile(optimizer = 'adam', loss = 'mse', metrics = ['mae'])\n",
    "\n",
    "model.summary()\n",
    "\n",
    "history_model = model.fit(train_desc, \n",
    "                               train_feat, \n",
    "                               epochs = 50, \n",
    "                               batch_size = 32,\n",
    "                               validation_split = 0.2)"
   ]
  },
  {
   "cell_type": "markdown",
   "metadata": {},
   "source": [
    "### Train and validation error rates "
   ]
  },
  {
   "cell_type": "code",
   "execution_count": 7,
   "metadata": {},
   "outputs": [
    {
     "data": {
      "image/png": "[encoded data removed]",
      "text/plain": [
       "<Figure size 432x288 with 1 Axes>"
      ]
     },
     "metadata": {
      "needs_background": "light"
     },
     "output_type": "display_data"
    }
   ],
   "source": [
    "plt.plot(history_model.history['loss'])\n",
    "plt.plot(history_model.history['val_loss'])\n",
    "plt.title('model performance')\n",
    "plt.ylabel('loss')\n",
    "plt.xlabel('epoch')\n",
    "plt.legend(['train', 'val'], loc = 'upper left')\n",
    "plt.show()"
   ]
  },
  {
   "cell_type": "markdown",
   "metadata": {},
   "source": [
    "### Create negative samples"
   ]
  },
  {
   "cell_type": "code",
   "execution_count": 127,
   "metadata": {},
   "outputs": [],
   "source": [
    "adj_matrix = np.zeros((num_train, num_train))\n",
    "\n",
    "for i in range(num_train):\n",
    "    if (i % 1000 == 0):\n",
    "        print(i)\n",
    "    for j in range(num_train):\n",
    "        adj_matrix[i,j] = np.sum(tags_bow[i]*tags_bow[j])\n",
    "        \n",
    "np.fill_diagonal(adj_matrix, 0)"
   ]
  },
  {
   "cell_type": "code",
   "execution_count": 10,
   "metadata": {},
   "outputs": [],
   "source": [
    "most_similar = np.flip(np.argsort(adj_matrix, axis = 1), axis = 1)"
   ]
  },
  {
   "cell_type": "markdown",
   "metadata": {},
   "source": [
    "### Adding negative samples of images. We add images that are very similar to the original but also samples that are very different"
   ]
  },
  {
   "cell_type": "code",
   "execution_count": 54,
   "metadata": {},
   "outputs": [],
   "source": [
    "feats_predicted = model.predict(train_desc)\n",
    "\n",
    "to_classify = np.concatenate((feats_predicted, train_feat), axis = 1)\n",
    "to_classify = np.append(to_classify, np.ones((num_train, 1)), axis = 1)\n",
    "\n",
    "numsim = 5\n",
    "nummed = 10\n",
    "numrand = 10\n",
    "sim_offset = 500\n",
    "med_offset = 3000\n",
    "diff_offset = 6000\n",
    "tot = numsim + nummed + numrand \n",
    "\n",
    "feats_to_add = np.repeat(feats_predicted, repeats = tot, axis = 0)\n",
    "zrs = np.zeros((feats_to_add.shape[0], 1))\n",
    "samples = np.zeros((feats_to_add.shape[0], 100))\n",
    "\n",
    "for i in range(num_train):\n",
    "    idx1 = np.random.choice(most_similar[i, :sim_offset], numsim, replace = False)\n",
    "    idx3 = np.random.choice(most_similar[i, sim_offset:med_offset], nummed, replace = False)\n",
    "    \n",
    "    idx2 = []\n",
    "    while len(idx2) < numrand:\n",
    "        ix = np.random.choice(most_similar[i, diff_offset:])\n",
    "        if ix not in np.concatenate([[i],idx1,idx2]):\n",
    "            idx2.append(ix)\n",
    "    \n",
    "    idx = np.concatenate([idx1, idx2, idx3])\n",
    "    samples[i*tot:i*tot+tot] = train_feat[idx]\n",
    "    \n",
    "    \n",
    "to_add = np.concatenate((feats_to_add, samples, zrs), axis = 1)\n",
    "to_classify = np.vstack((to_classify, to_add))"
   ]
  },
  {
   "cell_type": "markdown",
   "metadata": {},
   "source": [
    "### Creating a classifier"
   ]
  },
  {
   "cell_type": "code",
   "execution_count": 55,
   "metadata": {},
   "outputs": [],
   "source": [
    "x_train = to_classify[:,:-1]\n",
    "y_train = to_classify[:,-1]\n",
    "\n",
    "from sklearn.utils import shuffle\n",
    "\n",
    "x_train_shuf, y_train_shuf = shuffle(x_train, y_train)"
   ]
  },
  {
   "cell_type": "markdown",
   "metadata": {},
   "source": [
    "### Neural Network classifier"
   ]
  },
  {
   "cell_type": "code",
   "execution_count": 128,
   "metadata": {
    "scrolled": true
   },
   "outputs": [],
   "source": [
    "# Neural network\n",
    "model_class = Sequential()\n",
    "\n",
    "\n",
    "model_class.add(Dense(300, input_dim = 200, activation = 'relu'))\n",
    "\n",
    "model_class.add(Dense(500, activation = 'relu'))\n",
    "\n",
    "model_class.add(Dense(300, activation = 'relu'))\n",
    "\n",
    "model_class.add(Dense(1, activation = 'sigmoid'))\n",
    "\n",
    "model_class.compile(optimizer = 'adam', loss = 'binary_crossentropy', metrics = ['acc'])\n",
    "model_class.summary()\n",
    "\n",
    "history_model = model_class.fit(x_train_shuf, \n",
    "                               y_train_shuf, \n",
    "                               epochs = 25, \n",
    "                               batch_size = 32,\n",
    "                               class_weight = {0: 1., 1: 2})\n"
   ]
  },
  {
   "cell_type": "markdown",
   "metadata": {},
   "source": [
    "### Generate ResNet features of test"
   ]
  },
  {
   "cell_type": "code",
   "execution_count": 59,
   "metadata": {},
   "outputs": [],
   "source": [
    "dev_pred_feats = model.predict(dev_desc)"
   ]
  },
  {
   "cell_type": "markdown",
   "metadata": {},
   "source": [
    "### Testing the model and computing MAP@20"
   ]
  },
  {
   "cell_type": "code",
   "execution_count": 129,
   "metadata": {
    "scrolled": false
   },
   "outputs": [],
   "source": [
    "k = dev_pred_feats.shape[0]\n",
    "dev_scores = []\n",
    "dev_pos_list = []\n",
    "\n",
    "for i in range(k):\n",
    "    if (i % 100 == 0):\n",
    "        print(i)\n",
    "    x_try = np.concatenate((np.repeat(dev_pred_feats[i,:].reshape(-1, 100), k, axis = 0)\n",
    "                               , dev_feat), axis = 1)\n",
    "    a = model_class.predict(x_try)\n",
    "    pred_idx = list(np.argsort(-np.concatenate(a)))\n",
    "    dev_pos = pred_idx.index(i)\n",
    "    dev_pos_list.append(dev_pos)\n",
    "    if dev_pos < 20:\n",
    "        dev_scores.append(1 / (dev_pos + 1))\n",
    "    else:\n",
    "        dev_scores.append(0.0)\n",
    "        \n",
    "        \n",
    "print(\"Development MAP@20:\", np.mean(dev_scores))\n",
    "print(\"Mean index of true image\", np.mean(dev_pos_list))\n",
    "print(\"Median index of true image\", np.median(dev_pos_list))"
   ]
  },
  {
   "cell_type": "markdown",
   "metadata": {},
   "source": [
    "### Finally we use our model to compute top-20 predictions on the test data that can be submitted to Kaggle"
   ]
  },
  {
   "cell_type": "code",
   "execution_count": 130,
   "metadata": {},
   "outputs": [],
   "source": [
    "num_train = 10000\n",
    "num_test = 2000\n",
    "\n",
    "\n",
    "# build matrices description \n",
    "train_desc = parse_descriptions(\"data/descriptions_train\", num_doc=(num_train))\n",
    "train_desc = remove_stopwords(train_desc)\n",
    "train_desc = remove_punctuation(train_desc)\n",
    "test_desc = parse_descriptions(\"data/descriptions_test\", num_doc=num_test)\n",
    "test_desc = remove_stopwords(test_desc)\n",
    "test_desc = remove_punctuation(test_desc)\n",
    "train_desc = np.array([doc_to_vec(train_dev_desc[i], word2vec) for i in range(num_train)])\n",
    "test_desc = np.array([doc_to_vec(d, word2vec) for d in test_desc])\n",
    "\n",
    "\n",
    "# build feature matrices\n",
    "train_feat = parse_features(\"data/features_train/features_resnet1000_train.csv\")\n",
    "train_feat = train_feat[:num_train]\n",
    "test_feat = parse_features(\"data/features_test/features_resnet1000_test.csv\") \n",
    "\n",
    "\n",
    "tags = parse_descriptions(\"data/tags_train\", num_doc = (num_train))\n",
    "tags_dict = []\n",
    "\n",
    "for i in range(num_train):\n",
    "    tags_dict.append(tags[i].replace(' ', '').replace(':', ' ').replace('\\n', ' ').split()[1::2])\n",
    "    \n",
    "    \n",
    "unique_tags = np.unique(np.concatenate(tags_dict))    \n",
    "                \n",
    "tags_bow = tags_b(tags_dict, unique_tags)\n",
    "\n",
    "\n",
    "\n",
    "pca = PCA(n_components = 100)\n",
    "pca.fit(train_feat)\n",
    "train_feat = pca.transform(train_feat)\n",
    "test_feat = pca.transform(test_feat)\n",
    "\n",
    "\n",
    "history_model = model.fit(train_desc, \n",
    "                               train_feat, \n",
    "                               epochs = 50, \n",
    "                               batch_size = 32,\n",
    "                               validation_split = 0.2)\n",
    "\n",
    "\n",
    "# Adjacency matrix\n",
    "adj_matrix = np.zeros((num_train, num_train))\n",
    "\n",
    "for i in range(num_train):\n",
    "    if (i % 1000 == 0):\n",
    "        print(i)\n",
    "    for j in range(num_train):\n",
    "        adj_matrix[i,j] = np.sum(tags_bow[i]*tags_bow[j])\n",
    "        \n",
    "np.fill_diagonal(adj_matrix, 0)\n",
    "\n",
    "\n",
    "most_similar = np.flip(np.argsort(adj_matrix, axis = 1), axis = 1)\n",
    "\n",
    "\n",
    "\n",
    "# Classification\n",
    "feats_predicted = model.predict(train_desc)\n",
    "\n",
    "to_classify = np.concatenate((feats_predicted, train_feat), axis = 1)\n",
    "to_classify = np.append(to_classify, np.ones((num_train, 1)), axis = 1)\n",
    "\n",
    "numsim = 5\n",
    "nummed = 10\n",
    "numrand = 10\n",
    "sim_offset = 500\n",
    "med_offset = 2000\n",
    "diff_offset = 5000\n",
    "tot = numsim + nummed + numrand \n",
    "\n",
    "feats_to_add = np.repeat(feats_predicted, repeats = tot, axis = 0)\n",
    "zrs = np.zeros((feats_to_add.shape[0], 1))\n",
    "samples = np.zeros((feats_to_add.shape[0], 100))\n",
    "\n",
    "for i in range(num_train):\n",
    "    idx1 = np.random.choice(most_similar[i, :sim_offset], numsim, replace = False)\n",
    "    idx3 = np.random.choice(most_similar[i, sim_offset:med_offset], nummed, replace = False)\n",
    "    \n",
    "    idx2 = []\n",
    "    while len(idx2) < numrand:\n",
    "        ix = np.random.choice(most_similar[i, diff_offset:])\n",
    "        if ix not in np.concatenate([[i],idx1,idx2]):\n",
    "            idx2.append(ix)\n",
    "    \n",
    "    idx = np.concatenate([idx1, idx2, idx3])\n",
    "    samples[i*tot:i*tot+tot] = train_feat[idx]\n",
    "    \n",
    "    \n",
    "to_add = np.concatenate((feats_to_add, samples, zrs), axis = 1)\n",
    "to_classify = np.vstack((to_classify, to_add))\n",
    "\n",
    "\n",
    "x_train = to_classify[:,:-1]\n",
    "y_train = to_classify[:,-1]\n",
    "\n",
    "x_train_shuf, y_train_shuf = shuffle(x_train, y_train)\n",
    "\n",
    "\n",
    "history_model = model_class.fit(x_train_shuf, \n",
    "                               y_train_shuf, \n",
    "                               epochs = 25, \n",
    "                               batch_size = 32,\n",
    "                               class_weight = {0: 1., 1: 2})\n",
    "\n",
    "\n",
    "\n",
    "test_pred_feats = model.predict(test_desc)\n",
    "\n",
    "\n",
    "\n",
    "\n",
    "# Final prediction\n",
    "k = test_pred_feats.shape[0]\n",
    "test_scores = []\n",
    "test_pos_list = []\n",
    "pred_rows = []\n",
    "\n",
    "for i in range(k):\n",
    "    if (i % 100 == 0):\n",
    "        print(i)\n",
    "    x_try = np.concatenate((np.repeat(test_pred_feats[i,:].reshape(-1, 100), k, axis = 0)\n",
    "                               , test_feat), axis = 1)\n",
    "    a = model_class.predict(x_try)\n",
    "    test_dist_idx = list(np.argsort(-np.concatenate(a)))\n",
    "    top_20 = test_dist_idx[:20]\n",
    "    row = [\"%d.jpg\" % i for i in test_dist_idx[:20]]\n",
    "    pred_rows.append(\" \".join(row))\n",
    "\n",
    "with open(\"test_submission.csv\", \"w\") as f:\n",
    "    f.write(\"Descritpion_ID,Top_20_Image_IDs\\n\")\n",
    "    for i, row in enumerate(pred_rows):\n",
    "        f.write(\"%d.txt,%s\\n\" % (i, row))\n",
    "\n",
    "print(\"Output written!\")"
   ]
  },
  {
   "cell_type": "markdown",
   "metadata": {},
   "source": [
    "## Second Approach: Regression"
   ]
  },
  {
   "cell_type": "markdown",
   "metadata": {},
   "source": [
    "### Parsing the descriptions and constructing feature matrices"
   ]
  },
  {
   "cell_type": "code",
   "execution_count": 135,
   "metadata": {},
   "outputs": [],
   "source": [
    "# build x matrices\n",
    "train_dev_desc = parse_descriptions(\"data/descriptions_train\", num_doc=(num_train+num_dev))\n",
    "train_dev_desc = remove_stopwords(train_dev_desc)\n",
    "train_dev_desc = remove_punctuation(train_dev_desc)\n",
    "test_desc = parse_descriptions(\"data/descriptions_test\", num_doc=num_test)\n",
    "test_desc = remove_stopwords(test_desc)\n",
    "test_desc = remove_punctuation(test_desc)\n",
    "x_train = np.array([doc_to_vec(train_dev_desc[i], word2vec) for i in split_idx[:num_train]])\n",
    "x_dev = np.array([doc_to_vec(train_dev_desc[i], word2vec) for i in split_idx[num_train:]])\n",
    "x_test = np.array([doc_to_vec(d, word2vec) for d in test_desc])"
   ]
  },
  {
   "cell_type": "markdown",
   "metadata": {},
   "source": [
    "### Parsing the features"
   ]
  },
  {
   "cell_type": "code",
   "execution_count": 136,
   "metadata": {},
   "outputs": [
    {
     "name": "stdout",
     "output_type": "stream",
     "text": [
      "Built all y matrices!\n",
      "y_train shape: (8000, 1000)\n",
      "y_dev shape: (2000, 1000)\n",
      "y_test shape: (2000, 1000)\n"
     ]
    }
   ],
   "source": [
    "# build y matrices\n",
    "y_train_dev = parse_features(\"data/features_train/features_resnet1000_train.csv\")\n",
    "y_train = y_train_dev[split_idx[:num_train]]\n",
    "\n",
    "y_dev = y_train_dev[split_idx[num_train:]]\n",
    "y_test = parse_features(\"data/features_test/features_resnet1000_test.csv\")\n",
    "\n",
    "\n",
    "print(\"Built all y matrices!\")\n",
    "print(\"y_train shape:\", y_train.shape)\n",
    "print(\"y_dev shape:\", y_dev.shape)\n",
    "print(\"y_test shape:\", y_test.shape)"
   ]
  },
  {
   "cell_type": "markdown",
   "metadata": {},
   "source": [
    "### Applying PCA to the ResNet features"
   ]
  },
  {
   "cell_type": "code",
   "execution_count": 137,
   "metadata": {},
   "outputs": [],
   "source": [
    "from sklearn.decomposition import PCA\n",
    "\n",
    "pca = PCA(n_components = 100)\n",
    "pca.fit(y_train)\n",
    "y_train = pca.transform(y_train)\n",
    "y_dev = pca.transform(y_dev)\n",
    "y_test = pca.transform(y_test)"
   ]
  },
  {
   "cell_type": "markdown",
   "metadata": {},
   "source": [
    "### Neural network regressor"
   ]
  },
  {
   "cell_type": "code",
   "execution_count": 141,
   "metadata": {},
   "outputs": [],
   "source": [
    "from keras.models import Sequential\n",
    "from keras.layers import Dense\n",
    "from keras.layers import Dropout\n",
    "\n",
    "# Neural network\n",
    "model = Sequential()\n",
    "\n",
    "model.add(Dense(600, input_dim = 300, activation = 'relu'))\n",
    "model.add(Dense(100))\n",
    "\n",
    "model.compile(optimizer = 'adam', loss = 'mse', metrics = ['mae'])\n",
    "\n",
    "model.summary()\n",
    "\n",
    "history_model = model.fit(x_train, \n",
    "                               y_train, \n",
    "                               epochs = 50, \n",
    "                               batch_size = 32,\n",
    "                               validation_split = 0.2)"
   ]
  },
  {
   "cell_type": "markdown",
   "metadata": {},
   "source": [
    "### Train and validation error rates "
   ]
  },
  {
   "cell_type": "code",
   "execution_count": 139,
   "metadata": {},
   "outputs": [
    {
     "data": {
      "image/png": "[encoded data removed]",
      "text/plain": [
       "<Figure size 432x288 with 1 Axes>"
      ]
     },
     "metadata": {
      "needs_background": "light"
     },
     "output_type": "display_data"
    }
   ],
   "source": [
    "plt.plot(history_model.history['loss'])\n",
    "plt.plot(history_model.history['val_loss'])\n",
    "plt.title('model performance')\n",
    "plt.ylabel('loss')\n",
    "plt.xlabel('epoch')\n",
    "plt.legend(['train', 'val'], loc = 'upper left')\n",
    "plt.show()"
   ]
  },
  {
   "cell_type": "markdown",
   "metadata": {},
   "source": [
    "### Testing the model and computing MAP@20"
   ]
  },
  {
   "cell_type": "code",
   "execution_count": 140,
   "metadata": {},
   "outputs": [
    {
     "name": "stdout",
     "output_type": "stream",
     "text": [
      "Prediction made\n",
      "Distances calculated\n",
      "Development MAP@20: 0.2340653132492722\n",
      "Mean index of true image 39.6395\n",
      "Median index of true image 10.0\n"
     ]
    }
   ],
   "source": [
    "from sklearn.metrics.pairwise import euclidean_distances\n",
    "from sklearn.metrics.pairwise import manhattan_distances\n",
    "from sklearn.metrics.pairwise import cosine_similarity\n",
    "from skimage.measure import compare_ssim\n",
    "\n",
    "\n",
    "# test performance on development set\n",
    "y_dev_pred = model.predict(x_dev)\n",
    "print('Prediction made')\n",
    "dev_distances = cosine_similarity(y_dev_pred, y_dev)\n",
    "dev_scores = []\n",
    "dev_pos_list = []\n",
    "print('Distances calculated')\n",
    "\n",
    "for i in range(num_dev):\n",
    "    pred_dist_idx = list(np.argsort(-dev_distances[i]))\n",
    "    dev_pos = pred_dist_idx.index(i)\n",
    "    dev_pos_list.append(dev_pos)\n",
    "    if dev_pos < 20:\n",
    "        dev_scores.append(1 / (dev_pos + 1))\n",
    "    else:\n",
    "        dev_scores.append(0.0)\n",
    "\n",
    "print(\"Development MAP@20:\", np.mean(dev_scores))\n",
    "print(\"Mean index of true image\", np.mean(dev_pos_list))\n",
    "print(\"Median index of true image\", np.median(dev_pos_list))"
   ]
  },
  {
   "cell_type": "markdown",
   "metadata": {},
   "source": [
    "### Finally we use our model to compute top-20 predictions on the test data that can be submitted to Kaggle"
   ]
  },
  {
   "cell_type": "code",
   "execution_count": null,
   "metadata": {},
   "outputs": [],
   "source": [
    "# create test predictions\n",
    "x_train_all = np.concatenate([x_train, x_dev])\n",
    "y_train_all = np.concatenate([y_train, y_dev])\n",
    "history_model_final = model.fit(x_train, \n",
    "                               y_train, \n",
    "                               epochs = 100, \n",
    "                               batch_size = 64)\n",
    "\n",
    "y_test_pred = model.predict(x_test)\n",
    "test_distances = euclidean_distances(y_test_pred, y_test)\n",
    "pred_rows = []\n",
    "\n",
    "for i in range(num_test):\n",
    "    test_dist_idx = list(np.argsort(test_distances[i]))\n",
    "    top_20 = test_dist_idx[:20]\n",
    "    row = [\"%d.jpg\" % i for i in test_dist_idx[:20]]\n",
    "    pred_rows.append(\" \".join(row))\n",
    "\n",
    "with open(\"test_submission.csv\", \"w\") as f:\n",
    "    f.write(\"Descritpion_ID,Top_20_Image_IDs\\n\")\n",
    "    for i, row in enumerate(pred_rows):\n",
    "        f.write(\"%d.txt,%s\\n\" % (i, row))\n",
    "\n",
    "print(\"Output written!\")"
   ]
  }
 ],
 "metadata": {
  "kernelspec": {
   "display_name": "Python 3",
   "language": "python",
   "name": "python3"
  },
  "language_info": {
   "codemirror_mode": {
    "name": "ipython",
    "version": 3
   },
   "file_extension": ".py",
   "mimetype": "text/x-python",
   "name": "python",
   "nbconvert_exporter": "python",
   "pygments_lexer": "ipython3",
   "version": "3.7.3"
  }
 },
 "nbformat": 4,
 "nbformat_minor": 2
}
